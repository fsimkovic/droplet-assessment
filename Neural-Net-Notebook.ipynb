{
 "cells": [
  {
   "cell_type": "code",
   "execution_count": 1,
   "metadata": {},
   "outputs": [],
   "source": [
    "%matplotlib inline"
   ]
  },
  {
   "cell_type": "code",
   "execution_count": 2,
   "metadata": {},
   "outputs": [],
   "source": [
    "import ipywidgets\n",
    "import matplotlib.collections as mplcollections\n",
    "import matplotlib.patches as mplpatches\n",
    "import matplotlib.pyplot as plt\n",
    "import numpy as np\n",
    "import sklearn.metrics\n",
    "import sklearn.model_selection\n",
    "import sklearn.neural_network\n",
    "import skimage.color\n",
    "import skimage.feature\n",
    "import skimage.filters\n",
    "import skimage.transform\n",
    "import skvideo.io"
   ]
  },
  {
   "cell_type": "code",
   "execution_count": 3,
   "metadata": {},
   "outputs": [],
   "source": [
    "np.random.seed(1234)"
   ]
  },
  {
   "cell_type": "markdown",
   "metadata": {},
   "source": [
    "### Pre-process the images"
   ]
  },
  {
   "cell_type": "code",
   "execution_count": 4,
   "metadata": {},
   "outputs": [],
   "source": [
    "def preprocess_frame(img):\n",
    "    box = [450, 450, 1000, 150]\n",
    "    frame = skimage.color.rgb2gray(img)\n",
    "    return frame[box[1]:box[1] + box[3], box[0]:box[0] + box[2]]\n",
    "\n",
    "\n",
    "def extract_circles(img, nboxes=10, buffer=5):\n",
    "    min_circle_radius = 8\n",
    "    max_circle_radius = 15\n",
    "    hough_radii = np.arange(min_circle_radius, max_circle_radius, 1)\n",
    "    \n",
    "    edges = skimage.feature.canny(frame_, sigma=3)\n",
    "    hough_res = skimage.transform.hough_circle(edges, hough_radii)\n",
    "    _, cx, cy, radii = skimage.transform.hough_circle_peaks(hough_res, hough_radii, total_num_peaks=nboxes)\n",
    "\n",
    "    cx = np.array(cx) - max_circle_radius\n",
    "    cy = np.array(cy) - max_circle_radius\n",
    "    radii = np.full(10, max_circle_radius * 2)\n",
    "    \n",
    "    cboxes = np.c_[cy, cx, radii, radii]\n",
    "    cboxes[cboxes < 0] = 0\n",
    "    cboxes[:, :2] -= buffer\n",
    "    cboxes[:, 2:] += (buffer * 2)\n",
    "    \n",
    "    return cboxes\n",
    "\n",
    "\n",
    "def extract_random(img, nboxes=10, buffer=5):\n",
    "    m, n = img.shape\n",
    "    radius = 15 * 2 + buffer * 2\n",
    "    cboxes = np.zeros((nboxes, 4), dtype=np.int64)\n",
    "    for i in range(nboxes):\n",
    "        cx = np.random.randint(0, m - radius)\n",
    "        cy = np.random.randint(0, n - radius)\n",
    "        cboxes[i] = [cx, cy, radius, radius]\n",
    "    return cboxes"
   ]
  },
  {
   "cell_type": "code",
   "execution_count": 5,
   "metadata": {},
   "outputs": [],
   "source": [
    "nframes = 10\n",
    "nboxes_per_frame = 10\n",
    "box_buffer = 0\n",
    "\n",
    "video = skvideo.io.vreader('data/videos/1-microlitre.mp4')\n",
    "X = []; y = []\n",
    "for i, frame in enumerate(video):\n",
    "    frame_ = preprocess_frame(frame)\n",
    "    \n",
    "    cboxes_circle = extract_circles(frame_, nboxes=nboxes_per_frame, buffer=box_buffer)\n",
    "    for x_, y_, r_x, r_y in cboxes_circle:\n",
    "        box = frame_[x_:x_+r_x, y_:y_+r_y].flatten()\n",
    "        X.append(box)\n",
    "        y.append(1)\n",
    "        \n",
    "    cboxes_random = extract_random(frame_, nboxes=nboxes_per_frame, buffer=box_buffer)\n",
    "    for x_, y_, r_x, r_y in cboxes_random:\n",
    "        \n",
    "        # Little filter to exclude anything with a full dot --- radius 15 is max we accept\n",
    "        ignore = False\n",
    "        for a in range(16):\n",
    "            for b in range(16):\n",
    "                combinations = [[x_ - a, y_ - b], [x_ + a, y_ - b], [x_ - a, y_ + b], [x_ + a, y_ + b]]\n",
    "                if any(combo in cboxes_circle[:, :2].tolist() for combo in combinations):\n",
    "                    ignore = True\n",
    "                    \n",
    "        if ignore:\n",
    "            continue\n",
    "        else:\n",
    "            box = frame_[x_:x_+r_x, y_:y_+r_y].flatten()\n",
    "            X.append(box)\n",
    "            y.append(0)\n",
    "        \n",
    "    if i >= nframes:\n",
    "        del video\n",
    "        break\n",
    "\n",
    "X = np.array(X, dtype=np.float64)\n",
    "y = np.array(y, dtype=np.uint8)\n",
    "assert X.shape[0] == y.shape[0]"
   ]
  },
  {
   "cell_type": "code",
   "execution_count": 6,
   "metadata": {},
   "outputs": [
    {
     "data": {
      "application/vnd.jupyter.widget-view+json": {
       "model_id": "7955e484884a4427adc8a9974ca5efc0",
       "version_major": 2,
       "version_minor": 0
      },
      "text/plain": [
       "interactive(children=(IntSlider(value=0, description='sample', max=211), Output()), _dom_classes=('widget-inte…"
      ]
     },
     "metadata": {},
     "output_type": "display_data"
    },
    {
     "data": {
      "text/plain": [
       "<function __main__.plot(sample)>"
      ]
     },
     "execution_count": 6,
     "metadata": {},
     "output_type": "execute_result"
    }
   ],
   "source": [
    "n = int(np.sqrt(X.shape[1]))\n",
    "\n",
    "def plot(sample):\n",
    "    plt.imshow(X[sample].reshape(n, n), cmap='gray')\n",
    "    return 'y index %d is class %d' % (sample, y[sample])\n",
    "\n",
    "\n",
    "ipywidgets.interact(plot, sample=ipywidgets.IntSlider(min=0, max=X.shape[0]-1, value=0))"
   ]
  },
  {
   "cell_type": "markdown",
   "metadata": {},
   "source": [
    "### Build the NN classification model"
   ]
  },
  {
   "cell_type": "code",
   "execution_count": 7,
   "metadata": {},
   "outputs": [
    {
     "name": "stdout",
     "output_type": "stream",
     "text": [
      "Class 0 with 102 samples; class 1 with 110 samples\n"
     ]
    }
   ],
   "source": [
    "print('Class 0 with %d samples; class 1 with %d samples' % (y[y==0].shape[0], y[y==1].shape[0]))"
   ]
  },
  {
   "cell_type": "code",
   "execution_count": 8,
   "metadata": {},
   "outputs": [],
   "source": [
    "X_train, X_test, y_train, y_test = sklearn.model_selection.train_test_split(\n",
    "    X, y, test_size=0.3, shuffle=True, random_state=42\n",
    ")"
   ]
  },
  {
   "cell_type": "code",
   "execution_count": 9,
   "metadata": {},
   "outputs": [
    {
     "data": {
      "text/plain": [
       "MLPClassifier(activation='relu', alpha=1e-05, batch_size='auto', beta_1=0.9,\n",
       "       beta_2=0.999, early_stopping=False, epsilon=1e-08,\n",
       "       hidden_layer_sizes=(50, 50, 20), learning_rate='constant',\n",
       "       learning_rate_init=0.001, max_iter=200, momentum=0.9,\n",
       "       nesterovs_momentum=True, power_t=0.5, random_state=42, shuffle=True,\n",
       "       solver='lbfgs', tol=0.0001, validation_fraction=0.1, verbose=False,\n",
       "       warm_start=False)"
      ]
     },
     "execution_count": 9,
     "metadata": {},
     "output_type": "execute_result"
    }
   ],
   "source": [
    "model = sklearn.neural_network.MLPClassifier(\n",
    "    solver='lbfgs', alpha=1e-5, hidden_layer_sizes=(50, 50, 20), random_state=42\n",
    ")\n",
    "model.fit(X_train, y_train)"
   ]
  },
  {
   "cell_type": "code",
   "execution_count": 10,
   "metadata": {},
   "outputs": [
    {
     "name": "stdout",
     "output_type": "stream",
     "text": [
      "Accuracy of model is: 1.00\n"
     ]
    }
   ],
   "source": [
    "y_pred = model.predict(X_test)\n",
    "\n",
    "print(\"Accuracy of model is: %.2f\" % sklearn.metrics.accuracy_score(y_test, y_pred))"
   ]
  },
  {
   "cell_type": "markdown",
   "metadata": {},
   "source": [
    "## Attempt new prediction"
   ]
  },
  {
   "cell_type": "code",
   "execution_count": 39,
   "metadata": {},
   "outputs": [
    {
     "name": "stdout",
     "output_type": "stream",
     "text": [
      "Terminating early to avoid computational complexity\n"
     ]
    },
    {
     "ename": "RuntimeError",
     "evalue": "No active exception to reraise",
     "output_type": "error",
     "traceback": [
      "\u001b[0;31m---------------------------------------------------------------------------\u001b[0m",
      "\u001b[0;31mRuntimeError\u001b[0m                              Traceback (most recent call last)",
      "\u001b[0;32m<ipython-input-39-ecd64d797386>\u001b[0m in \u001b[0;36m<module>\u001b[0;34m()\u001b[0m\n\u001b[1;32m     18\u001b[0m \u001b[0;34m\u001b[0m\u001b[0m\n\u001b[1;32m     19\u001b[0m     \u001b[0mprint\u001b[0m\u001b[0;34m(\u001b[0m\u001b[0;34m'Terminating early to avoid computational complexity'\u001b[0m\u001b[0;34m)\u001b[0m\u001b[0;34m\u001b[0m\u001b[0m\n\u001b[0;32m---> 20\u001b[0;31m     \u001b[0;32mraise\u001b[0m\u001b[0;34m\u001b[0m\u001b[0m\n\u001b[0m",
      "\u001b[0;31mRuntimeError\u001b[0m: No active exception to reraise"
     ]
    }
   ],
   "source": [
    "box_size = int(np.sqrt(X.shape[1]))\n",
    "step = 5\n",
    "\n",
    "video = skvideo.io.vreader('data/videos/5-microlitre.mp4')\n",
    "\n",
    "boxes = []\n",
    "\n",
    "for frame in video:\n",
    "    frame_ = preprocess_frame(frame)\n",
    "    \n",
    "    for m in range(0, frame_.shape[0] - box_size, step):\n",
    "        for n in range(0, frame_.shape[1] - box_size, step):\n",
    "            \n",
    "            cbox = np.array(frame_[m:m+box_size, n:n+box_size]).flatten()\n",
    "            prediction = model.predict([cbox])[0]\n",
    "            if prediction == 1:\n",
    "                boxes.append(cbox)\n",
    "    \n",
    "    print('Terminating early to avoid computational complexity')\n",
    "    raise"
   ]
  },
  {
   "cell_type": "code",
   "execution_count": 40,
   "metadata": {},
   "outputs": [
    {
     "data": {
      "application/vnd.jupyter.widget-view+json": {
       "model_id": "fd3a0c20360c459689c9f8d713a36676",
       "version_major": 2,
       "version_minor": 0
      },
      "text/plain": [
       "interactive(children=(IntSlider(value=0, description='sample', max=17), Output()), _dom_classes=('widget-inter…"
      ]
     },
     "metadata": {},
     "output_type": "display_data"
    },
    {
     "data": {
      "text/plain": [
       "<function __main__.plot(sample)>"
      ]
     },
     "execution_count": 40,
     "metadata": {},
     "output_type": "execute_result"
    }
   ],
   "source": [
    "B = np.array(boxes)\n",
    "\n",
    "n = int(np.sqrt(B.shape[1]))\n",
    "\n",
    "def plot(sample):\n",
    "    plt.imshow(B[sample].reshape(n, n), cmap='gray')\n",
    "\n",
    "\n",
    "ipywidgets.interact(plot, sample=ipywidgets.IntSlider(min=0, max=B.shape[0]-1, value=0))"
   ]
  },
  {
   "cell_type": "markdown",
   "metadata": {},
   "source": [
    "### Convert detected droplets to actual area"
   ]
  },
  {
   "cell_type": "code",
   "execution_count": 42,
   "metadata": {},
   "outputs": [
    {
     "data": {
      "text/plain": [
       "<matplotlib.image.AxesImage at 0x7ff0f4a4fc18>"
      ]
     },
     "execution_count": 42,
     "metadata": {},
     "output_type": "execute_result"
    },
    {
     "data": {
      "image/png": "[encoded data removed]",
      "text/plain": [
       "<Figure size 432x288 with 1 Axes>"
      ]
     },
     "metadata": {},
     "output_type": "display_data"
    }
   ],
   "source": [
    "img = B[12].reshape(n, n)\n",
    "plt.imshow(img, cmap='gray')"
   ]
  },
  {
   "cell_type": "code",
   "execution_count": 48,
   "metadata": {},
   "outputs": [
    {
     "data": {
      "text/plain": [
       "<matplotlib.image.AxesImage at 0x7ff0f497d080>"
      ]
     },
     "execution_count": 48,
     "metadata": {},
     "output_type": "execute_result"
    },
    {
     "data": {
      "image/png": "[encoded data removed]",
      "text/plain": [
       "<Figure size 432x288 with 1 Axes>"
      ]
     },
     "metadata": {},
     "output_type": "display_data"
    }
   ],
   "source": [
    "blurred = skimage.filters.gaussian(img, sigma=0.5)\n",
    "blurred[blurred > 0.70] = 1.0\n",
    "plt.imshow(blurred, cmap='gray')"
   ]
  },
  {
   "cell_type": "code",
   "execution_count": 36,
   "metadata": {},
   "outputs": [
    {
     "name": "stdout",
     "output_type": "stream",
     "text": [
      "Area=592  r=13.73  d=27.45\n"
     ]
    }
   ],
   "source": [
    "A = blurred[blurred > 0.70].size\n",
    "r = np.sqrt(A / np.pi)\n",
    "print('Area=%d  r=%.2f  d=%.2f' %(A, r, r*2))"
   ]
  },
  {
   "cell_type": "code",
   "execution_count": null,
   "metadata": {},
   "outputs": [],
   "source": []
  }
 ],
 "metadata": {
  "kernelspec": {
   "display_name": "Python 3",
   "language": "python",
   "name": "python3"
  },
  "language_info": {
   "codemirror_mode": {
    "name": "ipython",
    "version": 3
   },
   "file_extension": ".py",
   "mimetype": "text/x-python",
   "name": "python",
   "nbconvert_exporter": "python",
   "pygments_lexer": "ipython3",
   "version": "3.6.5"
  }
 },
 "nbformat": 4,
 "nbformat_minor": 2
}
